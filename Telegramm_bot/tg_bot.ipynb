{
  "nbformat": 4,
  "nbformat_minor": 0,
  "metadata": {
    "colab": {
      "provenance": []
    },
    "kernelspec": {
      "name": "python3",
      "display_name": "Python 3"
    },
    "language_info": {
      "name": "python"
    }
  },
  "cells": [
    {
      "cell_type": "markdown",
      "source": [
        "Служебное"
      ],
      "metadata": {
        "id": "x3rJZA2xnVgx"
      }
    },
    {
      "cell_type": "code",
      "source": [
        "pip install pytelegrambotapi"
      ],
      "metadata": {
        "colab": {
          "base_uri": "https://localhost:8080/"
        },
        "id": "GPpWeq2bnYLH",
        "outputId": "62fbfab2-98ab-4ce1-c737-da19ddb4df7c"
      },
      "execution_count": 1,
      "outputs": [
        {
          "output_type": "stream",
          "name": "stdout",
          "text": [
            "Looking in indexes: https://pypi.org/simple, https://us-python.pkg.dev/colab-wheels/public/simple/\n",
            "Requirement already satisfied: pytelegrambotapi in /usr/local/lib/python3.7/dist-packages (4.7.0)\n",
            "Requirement already satisfied: requests in /usr/local/lib/python3.7/dist-packages (from pytelegrambotapi) (2.23.0)\n",
            "Requirement already satisfied: urllib3!=1.25.0,!=1.25.1,<1.26,>=1.21.1 in /usr/local/lib/python3.7/dist-packages (from requests->pytelegrambotapi) (1.24.3)\n",
            "Requirement already satisfied: chardet<4,>=3.0.2 in /usr/local/lib/python3.7/dist-packages (from requests->pytelegrambotapi) (3.0.4)\n",
            "Requirement already satisfied: certifi>=2017.4.17 in /usr/local/lib/python3.7/dist-packages (from requests->pytelegrambotapi) (2022.6.15)\n",
            "Requirement already satisfied: idna<3,>=2.5 in /usr/local/lib/python3.7/dist-packages (from requests->pytelegrambotapi) (2.10)\n"
          ]
        }
      ]
    },
    {
      "cell_type": "code",
      "source": [
        "!pip3 install wikipedia"
      ],
      "metadata": {
        "colab": {
          "base_uri": "https://localhost:8080/"
        },
        "id": "1jwVz5NonaAf",
        "outputId": "87df6746-564d-4e23-c0a1-857b22500600"
      },
      "execution_count": 2,
      "outputs": [
        {
          "output_type": "stream",
          "name": "stdout",
          "text": [
            "Looking in indexes: https://pypi.org/simple, https://us-python.pkg.dev/colab-wheels/public/simple/\n",
            "Requirement already satisfied: wikipedia in /usr/local/lib/python3.7/dist-packages (1.4.0)\n",
            "Requirement already satisfied: beautifulsoup4 in /usr/local/lib/python3.7/dist-packages (from wikipedia) (4.6.3)\n",
            "Requirement already satisfied: requests<3.0.0,>=2.0.0 in /usr/local/lib/python3.7/dist-packages (from wikipedia) (2.23.0)\n",
            "Requirement already satisfied: certifi>=2017.4.17 in /usr/local/lib/python3.7/dist-packages (from requests<3.0.0,>=2.0.0->wikipedia) (2022.6.15)\n",
            "Requirement already satisfied: chardet<4,>=3.0.2 in /usr/local/lib/python3.7/dist-packages (from requests<3.0.0,>=2.0.0->wikipedia) (3.0.4)\n",
            "Requirement already satisfied: urllib3!=1.25.0,!=1.25.1,<1.26,>=1.21.1 in /usr/local/lib/python3.7/dist-packages (from requests<3.0.0,>=2.0.0->wikipedia) (1.24.3)\n",
            "Requirement already satisfied: idna<3,>=2.5 in /usr/local/lib/python3.7/dist-packages (from requests<3.0.0,>=2.0.0->wikipedia) (2.10)\n"
          ]
        }
      ]
    },
    {
      "cell_type": "markdown",
      "source": [
        "Основной модуль"
      ],
      "metadata": {
        "id": "REwSjlxWkOHu"
      }
    },
    {
      "cell_type": "code",
      "execution_count": 3,
      "metadata": {
        "id": "Inwv8lHlkNAR"
      },
      "outputs": [],
      "source": [
        "import random, wikipedia, re,  telebot\n",
        "class GetWiki():\n",
        "  def __init__(self, lng, splt): #lng, splt - аргументы класса\n",
        "    self.splt = splt\n",
        "    self.lng = lng\n",
        "  def getwiki(self, str):\n",
        "      try:\n",
        "          ny = wikipedia.page(str)\n",
        "          # Выбираем русский язык в Wikipedia\n",
        "          wikipedia.set_lang(self.lng)\n",
        "          # Получаем первую тысячу символов\n",
        "          wikitext=ny.content[:1000]\n",
        "          # Разбиваем, считая точку разделителем\n",
        "          wikimas=wikitext.split(self.splt)\n",
        "          # Отбрасываем всё после последней точки\n",
        "          wikimas = wikimas[:-1]\n",
        "          # Создаем пустую переменную для текста\n",
        "          wikitext2 = ''\n",
        "          # Проходимся по строкам, где нет знаков «равно» (то есть все, кроме заголовков)\n",
        "          for x in wikimas:\n",
        "              if not('==' in x):\n",
        "                      # Если в строке осталось больше трех символов, добавляем ее\n",
        "                      # к нашей переменной и возвращаем утерянные при разделении строк точки на место\n",
        "                  if(len((x.strip()))>3):\n",
        "                     wikitext2=wikitext2+x+'.'\n",
        "              else:\n",
        "                  break\n",
        "          # Теперь при помощи регулярных выражений убираем разметку\n",
        "          wikitext2=re.sub('\\([^()]*\\)', '', wikitext2)\n",
        "          wikitext2=re.sub('\\([^()]*\\)', '', wikitext2)\n",
        "          wikitext2=re.sub('\\{[^\\{\\}]*\\}', '', wikitext2)\n",
        "          # Возвращаем текстовую строку\n",
        "          return wikitext2\n",
        "      # Обрабатываем исключение, которое мог вернуть модуль wikipedia при запросе\n",
        "      except Exception as e:\n",
        "          return 'В энциклопедии нет информации об этом'"
      ]
    },
    {
      "cell_type": "code",
      "source": [
        "x = GetWiki('ru', '.')\n",
        "#str = \"Казань\"\n",
        "#x.getwiki(str)"
      ],
      "metadata": {
        "id": "nCM93A99oY6o"
      },
      "execution_count": 5,
      "outputs": []
    },
    {
      "cell_type": "markdown",
      "source": [
        "Команды бота"
      ],
      "metadata": {
        "id": "DZo0RhHykQyY"
      }
    },
    {
      "cell_type": "code",
      "source": [
        "bot = telebot.TeleBot('5616850624:AAGLpQMkI6kP73PcFBPuWDJbzBgB3gEloVM')\n",
        "bot.set_webhook()"
      ],
      "metadata": {
        "colab": {
          "base_uri": "https://localhost:8080/"
        },
        "id": "IQfK-nh7CCgG",
        "outputId": "136628cc-ffdc-4f61-8c24-b103f4f1f439"
      },
      "execution_count": 6,
      "outputs": [
        {
          "output_type": "execute_result",
          "data": {
            "text/plain": [
              "True"
            ]
          },
          "metadata": {},
          "execution_count": 6
        }
      ]
    },
    {
      "cell_type": "code",
      "source": [
        "# Функция, обрабатывающая команду /start\n",
        "\n",
        "@bot.message_handler(commands=[\"start\"])\n",
        "\n",
        "def start(m, res=False):\n",
        "\n",
        "    bot.send_message(m.chat.id, 'Введите запрос для поиска в wiki')\n",
        "\n",
        "# Получение сообщений от пользователя\n",
        "\n",
        "@bot.message_handler(content_types=[\"text\"])\n",
        "\n",
        "def handle_text(message):\n",
        "\n",
        "    bot.send_message(message.chat.id, x.getwiki(message.text))"
      ],
      "metadata": {
        "id": "qmfuWhcjkYWU"
      },
      "execution_count": 7,
      "outputs": []
    },
    {
      "cell_type": "markdown",
      "source": [
        "Запуск бота"
      ],
      "metadata": {
        "id": "qQFKeClHkYoh"
      }
    },
    {
      "cell_type": "code",
      "source": [
        "bot.polling(none_stop=True, interval=0)"
      ],
      "metadata": {
        "id": "WAjB4Z3OkbUm"
      },
      "execution_count": 8,
      "outputs": []
    }
  ]
}